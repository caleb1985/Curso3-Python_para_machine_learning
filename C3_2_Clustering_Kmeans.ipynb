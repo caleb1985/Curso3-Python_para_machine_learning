{
 "cells": [
  {
   "cell_type": "code",
   "execution_count": null,
   "metadata": {},
   "outputs": [],
   "source": [
    "from IPython.core.interactiveshell import InteractiveShell\n",
    "InteractiveShell.ast_node_interactivity = \"all\""
   ]
  },
  {
   "cell_type": "markdown",
   "metadata": {},
   "source": [
    "## Importando los datos"
   ]
  },
  {
   "cell_type": "code",
   "execution_count": 1,
   "metadata": {},
   "outputs": [],
   "source": [
    "import os\n",
    "import pandas as pd"
   ]
  },
  {
   "cell_type": "code",
   "execution_count": 2,
   "metadata": {},
   "outputs": [
    {
     "data": {
      "text/plain": [
       "'C:\\\\Users\\\\caleb.terrel\\\\Desktop\\\\3-Python_para_machine_learning\\\\datasets'"
      ]
     },
     "execution_count": 2,
     "metadata": {},
     "output_type": "execute_result"
    }
   ],
   "source": [
    "os.getcwd()\n",
    "os.chdir('C:\\\\Users\\\\caleb.terrel\\\\Desktop\\\\3-Python_para_machine_learning\\\\datasets')\n",
    "os.getcwd()"
   ]
  },
  {
   "cell_type": "code",
   "execution_count": 3,
   "metadata": {},
   "outputs": [
    {
     "data": {
      "text/html": [
       "<div>\n",
       "<style scoped>\n",
       "    .dataframe tbody tr th:only-of-type {\n",
       "        vertical-align: middle;\n",
       "    }\n",
       "\n",
       "    .dataframe tbody tr th {\n",
       "        vertical-align: top;\n",
       "    }\n",
       "\n",
       "    .dataframe thead th {\n",
       "        text-align: right;\n",
       "    }\n",
       "</style>\n",
       "<table border=\"1\" class=\"dataframe\">\n",
       "  <thead>\n",
       "    <tr style=\"text-align: right;\">\n",
       "      <th></th>\n",
       "      <th>AGENCIAS</th>\n",
       "      <th>Mora.Media</th>\n",
       "      <th>CAR.Media</th>\n",
       "      <th>Cartera.Pesada.Promedio</th>\n",
       "      <th>Ingreso.Promedio</th>\n",
       "      <th>Intereses.de.Credito.Jun.17</th>\n",
       "      <th>Utilidad.Mes.M</th>\n",
       "      <th>Clientes</th>\n",
       "      <th>Desembolsos</th>\n",
       "      <th>Meses.en.Funcion</th>\n",
       "    </tr>\n",
       "  </thead>\n",
       "  <tbody>\n",
       "    <tr>\n",
       "      <th>0</th>\n",
       "      <td>Agencia_1</td>\n",
       "      <td>0.061715</td>\n",
       "      <td>0.073098</td>\n",
       "      <td>0.081526</td>\n",
       "      <td>374027.081188</td>\n",
       "      <td>2240211.79</td>\n",
       "      <td>121183.2091</td>\n",
       "      <td>1819</td>\n",
       "      <td>1912700.0</td>\n",
       "      <td>7.326489</td>\n",
       "    </tr>\n",
       "    <tr>\n",
       "      <th>1</th>\n",
       "      <td>Agencia_2</td>\n",
       "      <td>0.078396</td>\n",
       "      <td>0.079581</td>\n",
       "      <td>0.106191</td>\n",
       "      <td>279416.337518</td>\n",
       "      <td>1775647.47</td>\n",
       "      <td>31513.4712</td>\n",
       "      <td>1267</td>\n",
       "      <td>1473600.0</td>\n",
       "      <td>19.219713</td>\n",
       "    </tr>\n",
       "    <tr>\n",
       "      <th>2</th>\n",
       "      <td>Agencia_3</td>\n",
       "      <td>0.071103</td>\n",
       "      <td>0.076640</td>\n",
       "      <td>0.076054</td>\n",
       "      <td>408598.215412</td>\n",
       "      <td>2700761.90</td>\n",
       "      <td>210296.2826</td>\n",
       "      <td>3036</td>\n",
       "      <td>2272720.0</td>\n",
       "      <td>26.513347</td>\n",
       "    </tr>\n",
       "    <tr>\n",
       "      <th>3</th>\n",
       "      <td>Agencia_4</td>\n",
       "      <td>0.061930</td>\n",
       "      <td>0.068141</td>\n",
       "      <td>0.112533</td>\n",
       "      <td>719976.185012</td>\n",
       "      <td>4511839.64</td>\n",
       "      <td>427145.0846</td>\n",
       "      <td>5616</td>\n",
       "      <td>2128870.0</td>\n",
       "      <td>79.572895</td>\n",
       "    </tr>\n",
       "    <tr>\n",
       "      <th>4</th>\n",
       "      <td>Agencia_5</td>\n",
       "      <td>0.060584</td>\n",
       "      <td>0.069302</td>\n",
       "      <td>0.091240</td>\n",
       "      <td>450459.667241</td>\n",
       "      <td>2802044.98</td>\n",
       "      <td>309514.5234</td>\n",
       "      <td>3431</td>\n",
       "      <td>2362080.0</td>\n",
       "      <td>70.176591</td>\n",
       "    </tr>\n",
       "  </tbody>\n",
       "</table>\n",
       "</div>"
      ],
      "text/plain": [
       "    AGENCIAS  Mora.Media  CAR.Media  Cartera.Pesada.Promedio  \\\n",
       "0  Agencia_1    0.061715   0.073098                 0.081526   \n",
       "1  Agencia_2    0.078396   0.079581                 0.106191   \n",
       "2  Agencia_3    0.071103   0.076640                 0.076054   \n",
       "3  Agencia_4    0.061930   0.068141                 0.112533   \n",
       "4  Agencia_5    0.060584   0.069302                 0.091240   \n",
       "\n",
       "   Ingreso.Promedio  Intereses.de.Credito.Jun.17  Utilidad.Mes.M  Clientes  \\\n",
       "0     374027.081188                   2240211.79     121183.2091      1819   \n",
       "1     279416.337518                   1775647.47      31513.4712      1267   \n",
       "2     408598.215412                   2700761.90     210296.2826      3036   \n",
       "3     719976.185012                   4511839.64     427145.0846      5616   \n",
       "4     450459.667241                   2802044.98     309514.5234      3431   \n",
       "\n",
       "   Desembolsos  Meses.en.Funcion  \n",
       "0    1912700.0          7.326489  \n",
       "1    1473600.0         19.219713  \n",
       "2    2272720.0         26.513347  \n",
       "3    2128870.0         79.572895  \n",
       "4    2362080.0         70.176591  "
      ]
     },
     "execution_count": 3,
     "metadata": {},
     "output_type": "execute_result"
    }
   ],
   "source": [
    "AM = pd.read_excel('AgenciasMicrof_Indic2.xlsx')\n",
    "AM.head()"
   ]
  },
  {
   "cell_type": "code",
   "execution_count": 4,
   "metadata": {},
   "outputs": [
    {
     "name": "stdout",
     "output_type": "stream",
     "text": [
      "<class 'pandas.core.frame.DataFrame'>\n",
      "RangeIndex: 119 entries, 0 to 118\n",
      "Data columns (total 10 columns):\n",
      " #   Column                       Non-Null Count  Dtype  \n",
      "---  ------                       --------------  -----  \n",
      " 0   AGENCIAS                     119 non-null    object \n",
      " 1   Mora.Media                   119 non-null    float64\n",
      " 2   CAR.Media                    119 non-null    float64\n",
      " 3   Cartera.Pesada.Promedio      119 non-null    float64\n",
      " 4   Ingreso.Promedio             119 non-null    float64\n",
      " 5   Intereses.de.Credito.Jun.17  119 non-null    float64\n",
      " 6   Utilidad.Mes.M               119 non-null    float64\n",
      " 7   Clientes                     119 non-null    int64  \n",
      " 8   Desembolsos                  119 non-null    float64\n",
      " 9   Meses.en.Funcion             119 non-null    float64\n",
      "dtypes: float64(8), int64(1), object(1)\n",
      "memory usage: 9.4+ KB\n"
     ]
    }
   ],
   "source": [
    "AM.info()"
   ]
  },
  {
   "cell_type": "code",
   "execution_count": 5,
   "metadata": {},
   "outputs": [],
   "source": [
    "import matplotlib.pyplot as plt\n",
    "import seaborn as sb\n",
    "%matplotlib inline"
   ]
  },
  {
   "cell_type": "code",
   "execution_count": 8,
   "metadata": {},
   "outputs": [
    {
     "data": {
      "text/plain": [
       "(array([1, 2, 3, 4, 5, 6, 7, 8, 9]),\n",
       " [Text(1, 0, 'Mora.Media'),\n",
       "  Text(2, 0, 'CAR.Media'),\n",
       "  Text(3, 0, 'Cartera.Pesada.Promedio'),\n",
       "  Text(4, 0, 'Ingreso.Promedio'),\n",
       "  Text(5, 0, 'Intereses.de.Credito.Jun.17'),\n",
       "  Text(6, 0, 'Utilidad.Mes.M'),\n",
       "  Text(7, 0, 'Clientes'),\n",
       "  Text(8, 0, 'Desembolsos'),\n",
       "  Text(9, 0, 'Meses.en.Funcion')])"
      ]
     },
     "execution_count": 8,
     "metadata": {},
     "output_type": "execute_result"
    },
    {
     "data": {
      "image/png": "[encoded data removed]",
      "text/plain": [
       "<Figure size 936x432 with 1 Axes>"
      ]
     },
     "metadata": {
      "needs_background": "light"
     },
     "output_type": "display_data"
    }
   ],
   "source": [
    "#plt.rcParams['figure.figsize'] = (6.4,4.8)\n",
    "plt.rcParams['figure.figsize'] = (13,6)\n",
    "\n",
    "AM.boxplot(return_type='axes')\n",
    "plt.xticks(rotation=45)"
   ]
  },
  {
   "cell_type": "markdown",
   "metadata": {},
   "source": [
    "## Estandarizacion de datos"
   ]
  },
  {
   "cell_type": "code",
   "execution_count": 9,
   "metadata": {},
   "outputs": [
    {
     "name": "stdout",
     "output_type": "stream",
     "text": [
      "<class 'pandas.core.frame.DataFrame'>\n",
      "RangeIndex: 119 entries, 0 to 118\n",
      "Data columns (total 9 columns):\n",
      " #   Column                       Non-Null Count  Dtype  \n",
      "---  ------                       --------------  -----  \n",
      " 0   Mora.Media                   119 non-null    float64\n",
      " 1   CAR.Media                    119 non-null    float64\n",
      " 2   Cartera.Pesada.Promedio      119 non-null    float64\n",
      " 3   Ingreso.Promedio             119 non-null    float64\n",
      " 4   Intereses.de.Credito.Jun.17  119 non-null    float64\n",
      " 5   Utilidad.Mes.M               119 non-null    float64\n",
      " 6   Clientes                     119 non-null    int64  \n",
      " 7   Desembolsos                  119 non-null    float64\n",
      " 8   Meses.en.Funcion             119 non-null    float64\n",
      "dtypes: float64(8), int64(1)\n",
      "memory usage: 8.5 KB\n"
     ]
    }
   ],
   "source": [
    "X = AM.drop('AGENCIAS', axis=1)\n",
    "X.head()\n",
    "X.info()"
   ]
  },
  {
   "cell_type": "code",
   "execution_count": 10,
   "metadata": {},
   "outputs": [],
   "source": [
    "from sklearn.preprocessing import StandardScaler\n",
    "\n",
    "sc = StandardScaler()\n",
    "\n",
    "X_array = sc.fit_transform(X.values)\n",
    "\n",
    "X_sc = pd.DataFrame(X_array, index=X.index, columns=X.columns)"
   ]
  },
  {
   "cell_type": "code",
   "execution_count": 11,
   "metadata": {},
   "outputs": [
    {
     "data": {
      "text/html": [
       "<div>\n",
       "<style scoped>\n",
       "    .dataframe tbody tr th:only-of-type {\n",
       "        vertical-align: middle;\n",
       "    }\n",
       "\n",
       "    .dataframe tbody tr th {\n",
       "        vertical-align: top;\n",
       "    }\n",
       "\n",
       "    .dataframe thead th {\n",
       "        text-align: right;\n",
       "    }\n",
       "</style>\n",
       "<table border=\"1\" class=\"dataframe\">\n",
       "  <thead>\n",
       "    <tr style=\"text-align: right;\">\n",
       "      <th></th>\n",
       "      <th>Mora.Media</th>\n",
       "      <th>CAR.Media</th>\n",
       "      <th>Cartera.Pesada.Promedio</th>\n",
       "      <th>Ingreso.Promedio</th>\n",
       "      <th>Intereses.de.Credito.Jun.17</th>\n",
       "      <th>Utilidad.Mes.M</th>\n",
       "      <th>Clientes</th>\n",
       "      <th>Desembolsos</th>\n",
       "      <th>Meses.en.Funcion</th>\n",
       "    </tr>\n",
       "  </thead>\n",
       "  <tbody>\n",
       "    <tr>\n",
       "      <th>0</th>\n",
       "      <td>1.437825</td>\n",
       "      <td>1.270919</td>\n",
       "      <td>0.996998</td>\n",
       "      <td>0.182798</td>\n",
       "      <td>0.027921</td>\n",
       "      <td>-0.234485</td>\n",
       "      <td>-0.366595</td>\n",
       "      <td>-0.063125</td>\n",
       "      <td>-0.935135</td>\n",
       "    </tr>\n",
       "    <tr>\n",
       "      <th>1</th>\n",
       "      <td>2.190664</td>\n",
       "      <td>1.500867</td>\n",
       "      <td>1.776375</td>\n",
       "      <td>-0.221181</td>\n",
       "      <td>-0.312048</td>\n",
       "      <td>-0.492853</td>\n",
       "      <td>-0.755900</td>\n",
       "      <td>-0.467095</td>\n",
       "      <td>-0.733942</td>\n",
       "    </tr>\n",
       "    <tr>\n",
       "      <th>2</th>\n",
       "      <td>1.861494</td>\n",
       "      <td>1.396545</td>\n",
       "      <td>0.824062</td>\n",
       "      <td>0.330414</td>\n",
       "      <td>0.364952</td>\n",
       "      <td>0.022279</td>\n",
       "      <td>0.491711</td>\n",
       "      <td>0.268092</td>\n",
       "      <td>-0.610559</td>\n",
       "    </tr>\n",
       "    <tr>\n",
       "      <th>3</th>\n",
       "      <td>1.447515</td>\n",
       "      <td>1.095123</td>\n",
       "      <td>1.976801</td>\n",
       "      <td>1.659968</td>\n",
       "      <td>1.690301</td>\n",
       "      <td>0.647090</td>\n",
       "      <td>2.311290</td>\n",
       "      <td>0.135750</td>\n",
       "      <td>0.287026</td>\n",
       "    </tr>\n",
       "    <tr>\n",
       "      <th>4</th>\n",
       "      <td>1.386781</td>\n",
       "      <td>1.136301</td>\n",
       "      <td>1.303947</td>\n",
       "      <td>0.509158</td>\n",
       "      <td>0.439071</td>\n",
       "      <td>0.308158</td>\n",
       "      <td>0.770290</td>\n",
       "      <td>0.350303</td>\n",
       "      <td>0.128073</td>\n",
       "    </tr>\n",
       "  </tbody>\n",
       "</table>\n",
       "</div>"
      ],
      "text/plain": [
       "   Mora.Media  CAR.Media  Cartera.Pesada.Promedio  Ingreso.Promedio  \\\n",
       "0    1.437825   1.270919                 0.996998          0.182798   \n",
       "1    2.190664   1.500867                 1.776375         -0.221181   \n",
       "2    1.861494   1.396545                 0.824062          0.330414   \n",
       "3    1.447515   1.095123                 1.976801          1.659968   \n",
       "4    1.386781   1.136301                 1.303947          0.509158   \n",
       "\n",
       "   Intereses.de.Credito.Jun.17  Utilidad.Mes.M  Clientes  Desembolsos  \\\n",
       "0                     0.027921       -0.234485 -0.366595    -0.063125   \n",
       "1                    -0.312048       -0.492853 -0.755900    -0.467095   \n",
       "2                     0.364952        0.022279  0.491711     0.268092   \n",
       "3                     1.690301        0.647090  2.311290     0.135750   \n",
       "4                     0.439071        0.308158  0.770290     0.350303   \n",
       "\n",
       "   Meses.en.Funcion  \n",
       "0         -0.935135  \n",
       "1         -0.733942  \n",
       "2         -0.610559  \n",
       "3          0.287026  \n",
       "4          0.128073  "
      ]
     },
     "execution_count": 11,
     "metadata": {},
     "output_type": "execute_result"
    }
   ],
   "source": [
    "X_sc.head()"
   ]
  },
  {
   "cell_type": "code",
   "execution_count": 12,
   "metadata": {},
   "outputs": [
    {
     "data": {
      "text/html": [
       "<div>\n",
       "<style scoped>\n",
       "    .dataframe tbody tr th:only-of-type {\n",
       "        vertical-align: middle;\n",
       "    }\n",
       "\n",
       "    .dataframe tbody tr th {\n",
       "        vertical-align: top;\n",
       "    }\n",
       "\n",
       "    .dataframe thead th {\n",
       "        text-align: right;\n",
       "    }\n",
       "</style>\n",
       "<table border=\"1\" class=\"dataframe\">\n",
       "  <thead>\n",
       "    <tr style=\"text-align: right;\">\n",
       "      <th></th>\n",
       "      <th>Mora.Media</th>\n",
       "      <th>CAR.Media</th>\n",
       "      <th>Cartera.Pesada.Promedio</th>\n",
       "      <th>Ingreso.Promedio</th>\n",
       "      <th>Intereses.de.Credito.Jun.17</th>\n",
       "      <th>Utilidad.Mes.M</th>\n",
       "      <th>Clientes</th>\n",
       "      <th>Desembolsos</th>\n",
       "      <th>Meses.en.Funcion</th>\n",
       "    </tr>\n",
       "  </thead>\n",
       "  <tbody>\n",
       "    <tr>\n",
       "      <th>count</th>\n",
       "      <td>1.190000e+02</td>\n",
       "      <td>1.190000e+02</td>\n",
       "      <td>1.190000e+02</td>\n",
       "      <td>1.190000e+02</td>\n",
       "      <td>1.190000e+02</td>\n",
       "      <td>1.190000e+02</td>\n",
       "      <td>1.190000e+02</td>\n",
       "      <td>1.190000e+02</td>\n",
       "      <td>1.190000e+02</td>\n",
       "    </tr>\n",
       "    <tr>\n",
       "      <th>mean</th>\n",
       "      <td>4.478211e-17</td>\n",
       "      <td>-5.411171e-16</td>\n",
       "      <td>3.134747e-16</td>\n",
       "      <td>4.646143e-16</td>\n",
       "      <td>-4.888713e-16</td>\n",
       "      <td>-3.172066e-17</td>\n",
       "      <td>5.597763e-17</td>\n",
       "      <td>-1.100893e-16</td>\n",
       "      <td>-1.334134e-16</td>\n",
       "    </tr>\n",
       "    <tr>\n",
       "      <th>std</th>\n",
       "      <td>1.004228e+00</td>\n",
       "      <td>1.004228e+00</td>\n",
       "      <td>1.004228e+00</td>\n",
       "      <td>1.004228e+00</td>\n",
       "      <td>1.004228e+00</td>\n",
       "      <td>1.004228e+00</td>\n",
       "      <td>1.004228e+00</td>\n",
       "      <td>1.004228e+00</td>\n",
       "      <td>1.004228e+00</td>\n",
       "    </tr>\n",
       "    <tr>\n",
       "      <th>min</th>\n",
       "      <td>-1.347476e+00</td>\n",
       "      <td>-1.321723e+00</td>\n",
       "      <td>-1.579200e+00</td>\n",
       "      <td>-1.414158e+00</td>\n",
       "      <td>-1.607406e+00</td>\n",
       "      <td>-2.217546e+00</td>\n",
       "      <td>-1.603626e+00</td>\n",
       "      <td>-1.561061e+00</td>\n",
       "      <td>-1.059074e+00</td>\n",
       "    </tr>\n",
       "    <tr>\n",
       "      <th>25%</th>\n",
       "      <td>-6.414015e-01</td>\n",
       "      <td>-6.326425e-01</td>\n",
       "      <td>-7.350260e-01</td>\n",
       "      <td>-8.843183e-01</td>\n",
       "      <td>-7.946660e-01</td>\n",
       "      <td>-5.855424e-01</td>\n",
       "      <td>-7.541368e-01</td>\n",
       "      <td>-7.850912e-01</td>\n",
       "      <td>-7.545064e-01</td>\n",
       "    </tr>\n",
       "    <tr>\n",
       "      <th>50%</th>\n",
       "      <td>-1.492963e-01</td>\n",
       "      <td>-1.686827e-01</td>\n",
       "      <td>-1.065112e-01</td>\n",
       "      <td>-1.270064e-01</td>\n",
       "      <td>-9.680074e-02</td>\n",
       "      <td>-1.154826e-01</td>\n",
       "      <td>-1.655946e-01</td>\n",
       "      <td>-1.882443e-01</td>\n",
       "      <td>-3.121052e-01</td>\n",
       "    </tr>\n",
       "    <tr>\n",
       "      <th>75%</th>\n",
       "      <td>5.309011e-01</td>\n",
       "      <td>4.459211e-01</td>\n",
       "      <td>5.587967e-01</td>\n",
       "      <td>7.098186e-01</td>\n",
       "      <td>7.097200e-01</td>\n",
       "      <td>5.378665e-01</td>\n",
       "      <td>7.166897e-01</td>\n",
       "      <td>4.997125e-01</td>\n",
       "      <td>4.487583e-01</td>\n",
       "    </tr>\n",
       "    <tr>\n",
       "      <th>max</th>\n",
       "      <td>3.566617e+00</td>\n",
       "      <td>3.753802e+00</td>\n",
       "      <td>3.916989e+00</td>\n",
       "      <td>2.018906e+00</td>\n",
       "      <td>2.096374e+00</td>\n",
       "      <td>3.849604e+00</td>\n",
       "      <td>2.632890e+00</td>\n",
       "      <td>3.189923e+00</td>\n",
       "      <td>4.806077e+00</td>\n",
       "    </tr>\n",
       "  </tbody>\n",
       "</table>\n",
       "</div>"
      ],
      "text/plain": [
       "         Mora.Media     CAR.Media  Cartera.Pesada.Promedio  Ingreso.Promedio  \\\n",
       "count  1.190000e+02  1.190000e+02             1.190000e+02      1.190000e+02   \n",
       "mean   4.478211e-17 -5.411171e-16             3.134747e-16      4.646143e-16   \n",
       "std    1.004228e+00  1.004228e+00             1.004228e+00      1.004228e+00   \n",
       "min   -1.347476e+00 -1.321723e+00            -1.579200e+00     -1.414158e+00   \n",
       "25%   -6.414015e-01 -6.326425e-01            -7.350260e-01     -8.843183e-01   \n",
       "50%   -1.492963e-01 -1.686827e-01            -1.065112e-01     -1.270064e-01   \n",
       "75%    5.309011e-01  4.459211e-01             5.587967e-01      7.098186e-01   \n",
       "max    3.566617e+00  3.753802e+00             3.916989e+00      2.018906e+00   \n",
       "\n",
       "       Intereses.de.Credito.Jun.17  Utilidad.Mes.M      Clientes  \\\n",
       "count                 1.190000e+02    1.190000e+02  1.190000e+02   \n",
       "mean                 -4.888713e-16   -3.172066e-17  5.597763e-17   \n",
       "std                   1.004228e+00    1.004228e+00  1.004228e+00   \n",
       "min                  -1.607406e+00   -2.217546e+00 -1.603626e+00   \n",
       "25%                  -7.946660e-01   -5.855424e-01 -7.541368e-01   \n",
       "50%                  -9.680074e-02   -1.154826e-01 -1.655946e-01   \n",
       "75%                   7.097200e-01    5.378665e-01  7.166897e-01   \n",
       "max                   2.096374e+00    3.849604e+00  2.632890e+00   \n",
       "\n",
       "        Desembolsos  Meses.en.Funcion  \n",
       "count  1.190000e+02      1.190000e+02  \n",
       "mean  -1.100893e-16     -1.334134e-16  \n",
       "std    1.004228e+00      1.004228e+00  \n",
       "min   -1.561061e+00     -1.059074e+00  \n",
       "25%   -7.850912e-01     -7.545064e-01  \n",
       "50%   -1.882443e-01     -3.121052e-01  \n",
       "75%    4.997125e-01      4.487583e-01  \n",
       "max    3.189923e+00      4.806077e+00  "
      ]
     },
     "execution_count": 12,
     "metadata": {},
     "output_type": "execute_result"
    }
   ],
   "source": [
    "X_sc.describe()"
   ]
  },
  {
   "cell_type": "code",
   "execution_count": 13,
   "metadata": {},
   "outputs": [
    {
     "data": {
      "text/plain": [
       "(array([1, 2, 3, 4, 5, 6, 7, 8, 9]),\n",
       " [Text(1, 0, 'Mora.Media'),\n",
       "  Text(2, 0, 'CAR.Media'),\n",
       "  Text(3, 0, 'Cartera.Pesada.Promedio'),\n",
       "  Text(4, 0, 'Ingreso.Promedio'),\n",
       "  Text(5, 0, 'Intereses.de.Credito.Jun.17'),\n",
       "  Text(6, 0, 'Utilidad.Mes.M'),\n",
       "  Text(7, 0, 'Clientes'),\n",
       "  Text(8, 0, 'Desembolsos'),\n",
       "  Text(9, 0, 'Meses.en.Funcion')])"
      ]
     },
     "execution_count": 13,
     "metadata": {},
     "output_type": "execute_result"
    },
    {
     "data": {
      "image/png": "[encoded data removed]",
      "text/plain": [
       "<Figure size 936x432 with 1 Axes>"
      ]
     },
     "metadata": {
      "needs_background": "light"
     },
     "output_type": "display_data"
    }
   ],
   "source": [
    "boxplots = X_sc.boxplot(return_type='axes')\n",
    "plt.xticks(rotation=45)"
   ]
  },
  {
   "cell_type": "markdown",
   "metadata": {},
   "source": [
    "## Visualizacion de datos con PCA"
   ]
  },
  {
   "cell_type": "markdown",
   "metadata": {},
   "source": [
    "### PCA con 2 componentes"
   ]
  },
  {
   "cell_type": "code",
   "execution_count": 14,
   "metadata": {},
   "outputs": [
    {
     "data": {
      "text/plain": [
       "PCA(n_components=2)"
      ]
     },
     "execution_count": 14,
     "metadata": {},
     "output_type": "execute_result"
    }
   ],
   "source": [
    "# Especificar la cantidad de componentes que queremos mantener\n",
    "\n",
    "from sklearn.decomposition import PCA\n",
    "\n",
    "pca = PCA(n_components = 2)\n",
    "pca.fit(X_sc)"
   ]
  },
  {
   "cell_type": "code",
   "execution_count": 15,
   "metadata": {},
   "outputs": [
    {
     "data": {
      "text/plain": [
       "array([0.6218934 , 0.20049677])"
      ]
     },
     "execution_count": 15,
     "metadata": {},
     "output_type": "execute_result"
    }
   ],
   "source": [
    "# % varianza explicada por cada componente\n",
    "\n",
    "pca.explained_variance_ratio_ "
   ]
  },
  {
   "cell_type": "code",
   "execution_count": 16,
   "metadata": {},
   "outputs": [
    {
     "data": {
      "text/plain": [
       "0.8223901717016836"
      ]
     },
     "execution_count": 16,
     "metadata": {},
     "output_type": "execute_result"
    }
   ],
   "source": [
    "import numpy as np\n",
    "# % varianza explicada por cada componente acumulada\n",
    "\n",
    "np.sum(pca.explained_variance_ratio_)"
   ]
  },
  {
   "cell_type": "code",
   "execution_count": 17,
   "metadata": {},
   "outputs": [
    {
     "name": "stdout",
     "output_type": "stream",
     "text": [
      "Tamaño data Original:  (119, 9)\n",
      "Tamaño data reducida:  (119, 2)\n"
     ]
    }
   ],
   "source": [
    "# transformar datos en los dos primeros componentes principales\n",
    "\n",
    "X_sc_PCA = pca.transform(X_sc)\n",
    "\n",
    "print(\"Tamaño data Original: \", (X_sc.shape))\n",
    "print(\"Tamaño data reducida: \", (X_sc_PCA.shape))"
   ]
  },
  {
   "cell_type": "code",
   "execution_count": 18,
   "metadata": {},
   "outputs": [
    {
     "data": {
      "text/plain": [
       "array([[0.877092  , 2.05158292],\n",
       "       [0.73347984, 3.27968623],\n",
       "       [1.7420941 , 1.71276109],\n",
       "       [3.86164099, 0.68188368],\n",
       "       [2.05963988, 1.28299194]])"
      ]
     },
     "execution_count": 18,
     "metadata": {},
     "output_type": "execute_result"
    }
   ],
   "source": [
    "# muestra 5 registros\n",
    "\n",
    "X_sc_PCA[:5]"
   ]
  },
  {
   "cell_type": "code",
   "execution_count": 19,
   "metadata": {},
   "outputs": [
    {
     "data": {
      "text/plain": [
       "Text(0, 0.5, 'PCA 2')"
      ]
     },
     "execution_count": 19,
     "metadata": {},
     "output_type": "execute_result"
    },
    {
     "data": {
      "image/png": "[encoded data removed]",
      "text/plain": [
       "<Figure size 576x576 with 1 Axes>"
      ]
     },
     "metadata": {
      "needs_background": "light"
     },
     "output_type": "display_data"
    }
   ],
   "source": [
    "# Graficar los dos primeros componentes principales\n",
    "\n",
    "plt.figure(figsize=(8, 8))\n",
    "\n",
    "plt.scatter(X_sc_PCA[:, 0], X_sc_PCA[:, 1], s=60, edgecolors=\"black\", alpha=0.7)\n",
    "plt.gca().set_aspect(\"equal\")\n",
    "plt.xlabel(\"PCA 1\")\n",
    "plt.ylabel(\"PCA 2\")"
   ]
  },
  {
   "cell_type": "markdown",
   "metadata": {},
   "source": [
    "### Añadir los datos de PCA en el dataset original"
   ]
  },
  {
   "cell_type": "code",
   "execution_count": 20,
   "metadata": {},
   "outputs": [
    {
     "data": {
      "text/html": [
       "<div>\n",
       "<style scoped>\n",
       "    .dataframe tbody tr th:only-of-type {\n",
       "        vertical-align: middle;\n",
       "    }\n",
       "\n",
       "    .dataframe tbody tr th {\n",
       "        vertical-align: top;\n",
       "    }\n",
       "\n",
       "    .dataframe thead th {\n",
       "        text-align: right;\n",
       "    }\n",
       "</style>\n",
       "<table border=\"1\" class=\"dataframe\">\n",
       "  <thead>\n",
       "    <tr style=\"text-align: right;\">\n",
       "      <th></th>\n",
       "      <th>0</th>\n",
       "      <th>1</th>\n",
       "    </tr>\n",
       "  </thead>\n",
       "  <tbody>\n",
       "    <tr>\n",
       "      <th>0</th>\n",
       "      <td>0.877092</td>\n",
       "      <td>2.051583</td>\n",
       "    </tr>\n",
       "    <tr>\n",
       "      <th>1</th>\n",
       "      <td>0.733480</td>\n",
       "      <td>3.279686</td>\n",
       "    </tr>\n",
       "    <tr>\n",
       "      <th>2</th>\n",
       "      <td>1.742094</td>\n",
       "      <td>1.712761</td>\n",
       "    </tr>\n",
       "    <tr>\n",
       "      <th>3</th>\n",
       "      <td>3.861641</td>\n",
       "      <td>0.681884</td>\n",
       "    </tr>\n",
       "    <tr>\n",
       "      <th>4</th>\n",
       "      <td>2.059640</td>\n",
       "      <td>1.282992</td>\n",
       "    </tr>\n",
       "  </tbody>\n",
       "</table>\n",
       "</div>"
      ],
      "text/plain": [
       "          0         1\n",
       "0  0.877092  2.051583\n",
       "1  0.733480  3.279686\n",
       "2  1.742094  1.712761\n",
       "3  3.861641  0.681884\n",
       "4  2.059640  1.282992"
      ]
     },
     "execution_count": 20,
     "metadata": {},
     "output_type": "execute_result"
    }
   ],
   "source": [
    "# Transformar a Data Frame\n",
    "\n",
    "pca_df = pd.DataFrame(X_sc_PCA, index = X_sc.index)\n",
    "pca_df.head()"
   ]
  },
  {
   "cell_type": "code",
   "execution_count": 21,
   "metadata": {},
   "outputs": [
    {
     "data": {
      "text/html": [
       "<div>\n",
       "<style scoped>\n",
       "    .dataframe tbody tr th:only-of-type {\n",
       "        vertical-align: middle;\n",
       "    }\n",
       "\n",
       "    .dataframe tbody tr th {\n",
       "        vertical-align: top;\n",
       "    }\n",
       "\n",
       "    .dataframe thead th {\n",
       "        text-align: right;\n",
       "    }\n",
       "</style>\n",
       "<table border=\"1\" class=\"dataframe\">\n",
       "  <thead>\n",
       "    <tr style=\"text-align: right;\">\n",
       "      <th></th>\n",
       "      <th>PCA1</th>\n",
       "      <th>PCA2</th>\n",
       "    </tr>\n",
       "  </thead>\n",
       "  <tbody>\n",
       "    <tr>\n",
       "      <th>0</th>\n",
       "      <td>0.877092</td>\n",
       "      <td>2.051583</td>\n",
       "    </tr>\n",
       "    <tr>\n",
       "      <th>1</th>\n",
       "      <td>0.733480</td>\n",
       "      <td>3.279686</td>\n",
       "    </tr>\n",
       "    <tr>\n",
       "      <th>2</th>\n",
       "      <td>1.742094</td>\n",
       "      <td>1.712761</td>\n",
       "    </tr>\n",
       "    <tr>\n",
       "      <th>3</th>\n",
       "      <td>3.861641</td>\n",
       "      <td>0.681884</td>\n",
       "    </tr>\n",
       "    <tr>\n",
       "      <th>4</th>\n",
       "      <td>2.059640</td>\n",
       "      <td>1.282992</td>\n",
       "    </tr>\n",
       "  </tbody>\n",
       "</table>\n",
       "</div>"
      ],
      "text/plain": [
       "       PCA1      PCA2\n",
       "0  0.877092  2.051583\n",
       "1  0.733480  3.279686\n",
       "2  1.742094  1.712761\n",
       "3  3.861641  0.681884\n",
       "4  2.059640  1.282992"
      ]
     },
     "execution_count": 21,
     "metadata": {},
     "output_type": "execute_result"
    }
   ],
   "source": [
    "pca_df.columns = ['PCA1', 'PCA2']\n",
    "pca_df.head()"
   ]
  },
  {
   "cell_type": "code",
   "execution_count": 22,
   "metadata": {},
   "outputs": [],
   "source": [
    "X_sc2 = pd.concat([X_sc, pca_df], axis=1)"
   ]
  },
  {
   "cell_type": "code",
   "execution_count": 23,
   "metadata": {},
   "outputs": [
    {
     "data": {
      "text/html": [
       "<div>\n",
       "<style scoped>\n",
       "    .dataframe tbody tr th:only-of-type {\n",
       "        vertical-align: middle;\n",
       "    }\n",
       "\n",
       "    .dataframe tbody tr th {\n",
       "        vertical-align: top;\n",
       "    }\n",
       "\n",
       "    .dataframe thead th {\n",
       "        text-align: right;\n",
       "    }\n",
       "</style>\n",
       "<table border=\"1\" class=\"dataframe\">\n",
       "  <thead>\n",
       "    <tr style=\"text-align: right;\">\n",
       "      <th></th>\n",
       "      <th>Mora.Media</th>\n",
       "      <th>CAR.Media</th>\n",
       "      <th>Cartera.Pesada.Promedio</th>\n",
       "      <th>Ingreso.Promedio</th>\n",
       "      <th>Intereses.de.Credito.Jun.17</th>\n",
       "      <th>Utilidad.Mes.M</th>\n",
       "      <th>Clientes</th>\n",
       "      <th>Desembolsos</th>\n",
       "      <th>Meses.en.Funcion</th>\n",
       "      <th>PCA1</th>\n",
       "      <th>PCA2</th>\n",
       "    </tr>\n",
       "  </thead>\n",
       "  <tbody>\n",
       "    <tr>\n",
       "      <th>0</th>\n",
       "      <td>1.437825</td>\n",
       "      <td>1.270919</td>\n",
       "      <td>0.996998</td>\n",
       "      <td>0.182798</td>\n",
       "      <td>0.027921</td>\n",
       "      <td>-0.234485</td>\n",
       "      <td>-0.366595</td>\n",
       "      <td>-0.063125</td>\n",
       "      <td>-0.935135</td>\n",
       "      <td>0.877092</td>\n",
       "      <td>2.051583</td>\n",
       "    </tr>\n",
       "    <tr>\n",
       "      <th>1</th>\n",
       "      <td>2.190664</td>\n",
       "      <td>1.500867</td>\n",
       "      <td>1.776375</td>\n",
       "      <td>-0.221181</td>\n",
       "      <td>-0.312048</td>\n",
       "      <td>-0.492853</td>\n",
       "      <td>-0.755900</td>\n",
       "      <td>-0.467095</td>\n",
       "      <td>-0.733942</td>\n",
       "      <td>0.733480</td>\n",
       "      <td>3.279686</td>\n",
       "    </tr>\n",
       "    <tr>\n",
       "      <th>2</th>\n",
       "      <td>1.861494</td>\n",
       "      <td>1.396545</td>\n",
       "      <td>0.824062</td>\n",
       "      <td>0.330414</td>\n",
       "      <td>0.364952</td>\n",
       "      <td>0.022279</td>\n",
       "      <td>0.491711</td>\n",
       "      <td>0.268092</td>\n",
       "      <td>-0.610559</td>\n",
       "      <td>1.742094</td>\n",
       "      <td>1.712761</td>\n",
       "    </tr>\n",
       "    <tr>\n",
       "      <th>3</th>\n",
       "      <td>1.447515</td>\n",
       "      <td>1.095123</td>\n",
       "      <td>1.976801</td>\n",
       "      <td>1.659968</td>\n",
       "      <td>1.690301</td>\n",
       "      <td>0.647090</td>\n",
       "      <td>2.311290</td>\n",
       "      <td>0.135750</td>\n",
       "      <td>0.287026</td>\n",
       "      <td>3.861641</td>\n",
       "      <td>0.681884</td>\n",
       "    </tr>\n",
       "    <tr>\n",
       "      <th>4</th>\n",
       "      <td>1.386781</td>\n",
       "      <td>1.136301</td>\n",
       "      <td>1.303947</td>\n",
       "      <td>0.509158</td>\n",
       "      <td>0.439071</td>\n",
       "      <td>0.308158</td>\n",
       "      <td>0.770290</td>\n",
       "      <td>0.350303</td>\n",
       "      <td>0.128073</td>\n",
       "      <td>2.059640</td>\n",
       "      <td>1.282992</td>\n",
       "    </tr>\n",
       "  </tbody>\n",
       "</table>\n",
       "</div>"
      ],
      "text/plain": [
       "   Mora.Media  CAR.Media  Cartera.Pesada.Promedio  Ingreso.Promedio  \\\n",
       "0    1.437825   1.270919                 0.996998          0.182798   \n",
       "1    2.190664   1.500867                 1.776375         -0.221181   \n",
       "2    1.861494   1.396545                 0.824062          0.330414   \n",
       "3    1.447515   1.095123                 1.976801          1.659968   \n",
       "4    1.386781   1.136301                 1.303947          0.509158   \n",
       "\n",
       "   Intereses.de.Credito.Jun.17  Utilidad.Mes.M  Clientes  Desembolsos  \\\n",
       "0                     0.027921       -0.234485 -0.366595    -0.063125   \n",
       "1                    -0.312048       -0.492853 -0.755900    -0.467095   \n",
       "2                     0.364952        0.022279  0.491711     0.268092   \n",
       "3                     1.690301        0.647090  2.311290     0.135750   \n",
       "4                     0.439071        0.308158  0.770290     0.350303   \n",
       "\n",
       "   Meses.en.Funcion      PCA1      PCA2  \n",
       "0         -0.935135  0.877092  2.051583  \n",
       "1         -0.733942  0.733480  3.279686  \n",
       "2         -0.610559  1.742094  1.712761  \n",
       "3          0.287026  3.861641  0.681884  \n",
       "4          0.128073  2.059640  1.282992  "
      ]
     },
     "execution_count": 23,
     "metadata": {},
     "output_type": "execute_result"
    }
   ],
   "source": [
    "X_sc2.head()"
   ]
  },
  {
   "cell_type": "markdown",
   "metadata": {},
   "source": [
    "# Segmentacion K-means"
   ]
  },
  {
   "cell_type": "code",
   "execution_count": 24,
   "metadata": {},
   "outputs": [],
   "source": [
    "from sklearn.cluster import KMeans"
   ]
  },
  {
   "cell_type": "code",
   "execution_count": 25,
   "metadata": {},
   "outputs": [
    {
     "data": {
      "text/html": [
       "<div>\n",
       "<style scoped>\n",
       "    .dataframe tbody tr th:only-of-type {\n",
       "        vertical-align: middle;\n",
       "    }\n",
       "\n",
       "    .dataframe tbody tr th {\n",
       "        vertical-align: top;\n",
       "    }\n",
       "\n",
       "    .dataframe thead th {\n",
       "        text-align: right;\n",
       "    }\n",
       "</style>\n",
       "<table border=\"1\" class=\"dataframe\">\n",
       "  <thead>\n",
       "    <tr style=\"text-align: right;\">\n",
       "      <th></th>\n",
       "      <th>PCA1</th>\n",
       "      <th>PCA2</th>\n",
       "    </tr>\n",
       "  </thead>\n",
       "  <tbody>\n",
       "    <tr>\n",
       "      <th>0</th>\n",
       "      <td>0.877092</td>\n",
       "      <td>2.051583</td>\n",
       "    </tr>\n",
       "    <tr>\n",
       "      <th>1</th>\n",
       "      <td>0.733480</td>\n",
       "      <td>3.279686</td>\n",
       "    </tr>\n",
       "    <tr>\n",
       "      <th>2</th>\n",
       "      <td>1.742094</td>\n",
       "      <td>1.712761</td>\n",
       "    </tr>\n",
       "    <tr>\n",
       "      <th>3</th>\n",
       "      <td>3.861641</td>\n",
       "      <td>0.681884</td>\n",
       "    </tr>\n",
       "    <tr>\n",
       "      <th>4</th>\n",
       "      <td>2.059640</td>\n",
       "      <td>1.282992</td>\n",
       "    </tr>\n",
       "  </tbody>\n",
       "</table>\n",
       "</div>"
      ],
      "text/plain": [
       "       PCA1      PCA2\n",
       "0  0.877092  2.051583\n",
       "1  0.733480  3.279686\n",
       "2  1.742094  1.712761\n",
       "3  3.861641  0.681884\n",
       "4  2.059640  1.282992"
      ]
     },
     "execution_count": 25,
     "metadata": {},
     "output_type": "execute_result"
    }
   ],
   "source": [
    "# Seleccionando las variables PCA1 y PCA2\n",
    "\n",
    "X_sc2.iloc[:, 9:11].head()"
   ]
  },
  {
   "cell_type": "code",
   "execution_count": 26,
   "metadata": {},
   "outputs": [
    {
     "data": {
      "text/plain": [
       "KMeans(n_clusters=5, random_state=2020)"
      ]
     },
     "execution_count": 26,
     "metadata": {},
     "output_type": "execute_result"
    }
   ],
   "source": [
    "kmeans = KMeans(n_clusters = 5, random_state=2020)\n",
    "kmeans.fit(X_sc2.iloc[:, 9:11])"
   ]
  },
  {
   "cell_type": "code",
   "execution_count": 27,
   "metadata": {},
   "outputs": [
    {
     "name": "stdout",
     "output_type": "stream",
     "text": [
      "[3 3 3 2 3 3 3 3 3 3 3 3 3 3 3 3 3 0 2 0 0 2 0 1 2 0 1 2 0 0 0 2 0 0 2 1 1\n",
      " 0 2 2 0 2 1 0 0 2 0 0 0 1 1 0 0 1 2 1 0 1 1 0 1 2 0 0 1 0 0 2 0 0 1 2 2 2\n",
      " 1 2 1 1 1 1 0 1 4 1 1 1 1 1 4 4 1 1 1 2 1 1 1 0 1 4 4 1 1 4 4 1 1 4 4 1 4\n",
      " 4 4 4 4 4 4 4 4]\n"
     ]
    }
   ],
   "source": [
    "# Etiquetas del cluster del modelo\n",
    "\n",
    "print(kmeans.labels_)"
   ]
  },
  {
   "cell_type": "code",
   "execution_count": 28,
   "metadata": {},
   "outputs": [
    {
     "name": "stdout",
     "output_type": "stream",
     "text": [
      "[3 3 3 2 3 3 3 3 3 3 3 3 3 3 3 3 3 0 2 0 0 2 0 1 2 0 1 2 0 0 0 2 0 0 2 1 1\n",
      " 0 2 2 0 2 1 0 0 2 0 0 0 1 1 0 0 1 2 1 0 1 1 0 1 2 0 0 1 0 0 2 0 0 1 2 2 2\n",
      " 1 2 1 1 1 1 0 1 4 1 1 1 1 1 4 4 1 1 1 2 1 1 1 0 1 4 4 1 1 4 4 1 1 4 4 1 4\n",
      " 4 4 4 4 4 4 4 4]\n"
     ]
    }
   ],
   "source": [
    "# Asignación de clusters en cualquier data\n",
    "\n",
    "print(kmeans.predict(X_sc2.iloc[:, 9:11]))"
   ]
  },
  {
   "cell_type": "code",
   "execution_count": 29,
   "metadata": {},
   "outputs": [
    {
     "name": "stdout",
     "output_type": "stream",
     "text": [
      "[[ 0.84658835 -0.22719215]\n",
      " [-1.46424425  0.12070443]\n",
      " [ 3.28903681 -1.4642178 ]\n",
      " [ 1.9788245   2.41082159]\n",
      " [-3.58482869 -0.47947215]]\n"
     ]
    }
   ],
   "source": [
    "print(kmeans.cluster_centers_)"
   ]
  },
  {
   "cell_type": "code",
   "execution_count": 30,
   "metadata": {},
   "outputs": [
    {
     "data": {
      "text/plain": [
       "Text(0, 0.5, 'PCA 2')"
      ]
     },
     "execution_count": 30,
     "metadata": {},
     "output_type": "execute_result"
    },
    {
     "data": {
      "image/png": "[encoded data removed]",
      "text/plain": [
       "<Figure size 576x432 with 1 Axes>"
      ]
     },
     "metadata": {
      "needs_background": "light"
     },
     "output_type": "display_data"
    }
   ],
   "source": [
    "# x defecto el tamaño del ancho y alto es de 6.4 y 4.8\n",
    "plt.rcParams['figure.figsize'] = (8, 6)\n",
    "\n",
    "# https://matplotlib.org/3.1.0/tutorials/colors/colormaps.html\n",
    "\n",
    "plt.scatter(X_sc2.iloc[:, 9], X_sc2.iloc[:, 10], c=kmeans.labels_, cmap='viridis', s=60, edgecolors=\"black\", alpha=0.6)\n",
    "plt.scatter(kmeans.cluster_centers_[:, 0], kmeans.cluster_centers_[:, 1], \n",
    "            marker='^', s=140, linewidth=2, c=[0, 1, 2, 3, 4], cmap='viridis', edgecolors=\"black\")\n",
    "plt.xlabel(\"PCA 1\")\n",
    "plt.ylabel(\"PCA 2\")"
   ]
  },
  {
   "cell_type": "markdown",
   "metadata": {},
   "source": [
    "# Buscando el numero optimo de clusters"
   ]
  },
  {
   "cell_type": "markdown",
   "metadata": {},
   "source": [
    "## Inercia"
   ]
  },
  {
   "cell_type": "code",
   "execution_count": 31,
   "metadata": {},
   "outputs": [],
   "source": [
    "nb_clusters = [2, 3, 4, 5, 6, 7, 8, 9, 10]\n",
    "inertias = []\n",
    "for n in nb_clusters:\n",
    "    km = KMeans(n_clusters = n)\n",
    "    km.fit(X_sc2.iloc[:, 9:11])\n",
    "    inertias.append(km.inertia_)"
   ]
  },
  {
   "cell_type": "code",
   "execution_count": 32,
   "metadata": {},
   "outputs": [
    {
     "data": {
      "text/plain": [
       "[397.37563286359733,\n",
       " 266.61157624692294,\n",
       " 188.86041880690792,\n",
       " 141.46528807725034,\n",
       " 114.72453883601547,\n",
       " 97.84491888757536,\n",
       " 82.02141458048624,\n",
       " 67.58157005152735,\n",
       " 60.004132650672446]"
      ]
     },
     "execution_count": 32,
     "metadata": {},
     "output_type": "execute_result"
    }
   ],
   "source": [
    "inertias"
   ]
  },
  {
   "cell_type": "code",
   "execution_count": 33,
   "metadata": {},
   "outputs": [
    {
     "data": {
      "text/plain": [
       "Text(0, 0.5, 'inercias de cada modelo k-means')"
      ]
     },
     "execution_count": 33,
     "metadata": {},
     "output_type": "execute_result"
    },
    {
     "data": {
      "image/png": "[encoded data removed]",
      "text/plain": [
       "<Figure size 576x432 with 1 Axes>"
      ]
     },
     "metadata": {
      "needs_background": "light"
     },
     "output_type": "display_data"
    }
   ],
   "source": [
    "plt.plot(nb_clusters, inertias, marker='o')\n",
    "plt.xlabel(\"modelos clusters k-means\")\n",
    "plt.ylabel(\"inercias de cada modelo k-means\")"
   ]
  },
  {
   "cell_type": "markdown",
   "metadata": {},
   "source": [
    "## Silueta"
   ]
  },
  {
   "cell_type": "code",
   "execution_count": 35,
   "metadata": {},
   "outputs": [],
   "source": [
    "from sklearn.metrics import silhouette_score\n",
    "\n",
    "nb_clusters = [2, 3, 4, 5, 6, 7, 8, 9, 10]\n",
    "avg_silhouettes = []\n",
    "\n",
    "for n in nb_clusters:\n",
    "    km = KMeans(n_clusters = n)\n",
    "    Y = km.fit_predict(X_sc2.iloc[:, 9:11])\n",
    "    avg_silhouettes.append(silhouette_score(X_sc2.iloc[:, 9:11], Y))"
   ]
  },
  {
   "cell_type": "code",
   "execution_count": 36,
   "metadata": {},
   "outputs": [
    {
     "data": {
      "text/plain": [
       "[0.4758344226430164,\n",
       " 0.4574740104349773,\n",
       " 0.4195371893744552,\n",
       " 0.4170698878326849,\n",
       " 0.4328179393575662,\n",
       " 0.4350990333024475,\n",
       " 0.4385937636536939,\n",
       " 0.41400935572241077,\n",
       " 0.4266680236439462]"
      ]
     },
     "execution_count": 36,
     "metadata": {},
     "output_type": "execute_result"
    }
   ],
   "source": [
    "avg_silhouettes"
   ]
  },
  {
   "cell_type": "code",
   "execution_count": 37,
   "metadata": {},
   "outputs": [
    {
     "data": {
      "text/plain": [
       "Text(0, 0.5, 'siluetas de cada modelo k-means')"
      ]
     },
     "execution_count": 37,
     "metadata": {},
     "output_type": "execute_result"
    },
    {
     "data": {
      "image/png": "[encoded data removed]",
      "text/plain": [
       "<Figure size 576x432 with 1 Axes>"
      ]
     },
     "metadata": {
      "needs_background": "light"
     },
     "output_type": "display_data"
    }
   ],
   "source": [
    "plt.rcParams['figure.figsize'] = (8, 6)\n",
    "\n",
    "plt.plot(nb_clusters, avg_silhouettes, marker='o')\n",
    "plt.xlabel(\"modelos clusters k-means\")\n",
    "plt.ylabel(\"siluetas de cada modelo k-means\")"
   ]
  },
  {
   "cell_type": "markdown",
   "metadata": {},
   "source": [
    "## Conclusion: modelo k-means con 3 clusters"
   ]
  },
  {
   "cell_type": "code",
   "execution_count": 38,
   "metadata": {},
   "outputs": [
    {
     "name": "stdout",
     "output_type": "stream",
     "text": [
      "[2 2 2 0 2 2 2 2 2 2 2 2 2 2 2 2 2 0 0 0 2 0 0 1 0 2 1 0 0 2 0 0 1 0 0 1 1\n",
      " 0 0 0 0 0 2 0 2 0 2 0 1 1 1 0 0 1 0 1 2 1 1 2 1 0 0 0 1 2 2 0 2 2 1 0 0 0\n",
      " 1 0 1 1 1 1 1 1 1 1 1 1 1 1 1 1 1 1 1 0 1 1 1 1 1 1 1 1 1 1 1 1 1 1 1 1 1\n",
      " 1 1 1 1 1 1 1 1]\n"
     ]
    }
   ],
   "source": [
    "kmeans = KMeans(n_clusters = 3)\n",
    "kmeans.fit(X_sc2.iloc[:, 9:11])\n",
    "\n",
    "# Etiquetas del cluster del modelo\n",
    "\n",
    "print(kmeans.labels_)"
   ]
  },
  {
   "cell_type": "code",
   "execution_count": 39,
   "metadata": {},
   "outputs": [
    {
     "name": "stdout",
     "output_type": "stream",
     "text": [
      "[[ 2.38738156 -1.14622092]\n",
      " [-2.05282132 -0.15851774]\n",
      " [ 1.43857303  1.6792614 ]]\n"
     ]
    }
   ],
   "source": [
    "print(kmeans.cluster_centers_)"
   ]
  },
  {
   "cell_type": "code",
   "execution_count": 40,
   "metadata": {},
   "outputs": [
    {
     "data": {
      "text/plain": [
       "Text(0, 0.5, 'PCA 2')"
      ]
     },
     "execution_count": 40,
     "metadata": {},
     "output_type": "execute_result"
    },
    {
     "data": {
      "image/png": "[encoded data removed]",
      "text/plain": [
       "<Figure size 576x432 with 1 Axes>"
      ]
     },
     "metadata": {
      "needs_background": "light"
     },
     "output_type": "display_data"
    }
   ],
   "source": [
    "plt.scatter(X_sc2.iloc[:, 9], X_sc2.iloc[:, 10], c=kmeans.labels_, cmap='viridis', s=60, edgecolors=\"black\", alpha=0.6)\n",
    "plt.scatter(kmeans.cluster_centers_[:, 0], kmeans.cluster_centers_[:, 1], \n",
    "            marker='^', s=140, linewidth=2, c=[0, 1, 2], cmap='viridis', edgecolors=\"black\")\n",
    "plt.xlabel(\"PCA 1\")\n",
    "plt.ylabel(\"PCA 2\")"
   ]
  },
  {
   "cell_type": "markdown",
   "metadata": {},
   "source": [
    "## Agregar el vector Clusters en la data"
   ]
  },
  {
   "cell_type": "code",
   "execution_count": 41,
   "metadata": {},
   "outputs": [
    {
     "data": {
      "text/html": [
       "<div>\n",
       "<style scoped>\n",
       "    .dataframe tbody tr th:only-of-type {\n",
       "        vertical-align: middle;\n",
       "    }\n",
       "\n",
       "    .dataframe tbody tr th {\n",
       "        vertical-align: top;\n",
       "    }\n",
       "\n",
       "    .dataframe thead th {\n",
       "        text-align: right;\n",
       "    }\n",
       "</style>\n",
       "<table border=\"1\" class=\"dataframe\">\n",
       "  <thead>\n",
       "    <tr style=\"text-align: right;\">\n",
       "      <th></th>\n",
       "      <th>Mora.Media</th>\n",
       "      <th>CAR.Media</th>\n",
       "      <th>Cartera.Pesada.Promedio</th>\n",
       "      <th>Ingreso.Promedio</th>\n",
       "      <th>Intereses.de.Credito.Jun.17</th>\n",
       "      <th>Utilidad.Mes.M</th>\n",
       "      <th>Clientes</th>\n",
       "      <th>Desembolsos</th>\n",
       "      <th>Meses.en.Funcion</th>\n",
       "      <th>PCA1</th>\n",
       "      <th>PCA2</th>\n",
       "      <th>Clusters</th>\n",
       "    </tr>\n",
       "  </thead>\n",
       "  <tbody>\n",
       "    <tr>\n",
       "      <th>0</th>\n",
       "      <td>1.437825</td>\n",
       "      <td>1.270919</td>\n",
       "      <td>0.996998</td>\n",
       "      <td>0.182798</td>\n",
       "      <td>0.027921</td>\n",
       "      <td>-0.234485</td>\n",
       "      <td>-0.366595</td>\n",
       "      <td>-0.063125</td>\n",
       "      <td>-0.935135</td>\n",
       "      <td>0.877092</td>\n",
       "      <td>2.051583</td>\n",
       "      <td>2</td>\n",
       "    </tr>\n",
       "    <tr>\n",
       "      <th>1</th>\n",
       "      <td>2.190664</td>\n",
       "      <td>1.500867</td>\n",
       "      <td>1.776375</td>\n",
       "      <td>-0.221181</td>\n",
       "      <td>-0.312048</td>\n",
       "      <td>-0.492853</td>\n",
       "      <td>-0.755900</td>\n",
       "      <td>-0.467095</td>\n",
       "      <td>-0.733942</td>\n",
       "      <td>0.733480</td>\n",
       "      <td>3.279686</td>\n",
       "      <td>2</td>\n",
       "    </tr>\n",
       "    <tr>\n",
       "      <th>2</th>\n",
       "      <td>1.861494</td>\n",
       "      <td>1.396545</td>\n",
       "      <td>0.824062</td>\n",
       "      <td>0.330414</td>\n",
       "      <td>0.364952</td>\n",
       "      <td>0.022279</td>\n",
       "      <td>0.491711</td>\n",
       "      <td>0.268092</td>\n",
       "      <td>-0.610559</td>\n",
       "      <td>1.742094</td>\n",
       "      <td>1.712761</td>\n",
       "      <td>2</td>\n",
       "    </tr>\n",
       "    <tr>\n",
       "      <th>3</th>\n",
       "      <td>1.447515</td>\n",
       "      <td>1.095123</td>\n",
       "      <td>1.976801</td>\n",
       "      <td>1.659968</td>\n",
       "      <td>1.690301</td>\n",
       "      <td>0.647090</td>\n",
       "      <td>2.311290</td>\n",
       "      <td>0.135750</td>\n",
       "      <td>0.287026</td>\n",
       "      <td>3.861641</td>\n",
       "      <td>0.681884</td>\n",
       "      <td>0</td>\n",
       "    </tr>\n",
       "    <tr>\n",
       "      <th>4</th>\n",
       "      <td>1.386781</td>\n",
       "      <td>1.136301</td>\n",
       "      <td>1.303947</td>\n",
       "      <td>0.509158</td>\n",
       "      <td>0.439071</td>\n",
       "      <td>0.308158</td>\n",
       "      <td>0.770290</td>\n",
       "      <td>0.350303</td>\n",
       "      <td>0.128073</td>\n",
       "      <td>2.059640</td>\n",
       "      <td>1.282992</td>\n",
       "      <td>2</td>\n",
       "    </tr>\n",
       "  </tbody>\n",
       "</table>\n",
       "</div>"
      ],
      "text/plain": [
       "   Mora.Media  CAR.Media  Cartera.Pesada.Promedio  Ingreso.Promedio  \\\n",
       "0    1.437825   1.270919                 0.996998          0.182798   \n",
       "1    2.190664   1.500867                 1.776375         -0.221181   \n",
       "2    1.861494   1.396545                 0.824062          0.330414   \n",
       "3    1.447515   1.095123                 1.976801          1.659968   \n",
       "4    1.386781   1.136301                 1.303947          0.509158   \n",
       "\n",
       "   Intereses.de.Credito.Jun.17  Utilidad.Mes.M  Clientes  Desembolsos  \\\n",
       "0                     0.027921       -0.234485 -0.366595    -0.063125   \n",
       "1                    -0.312048       -0.492853 -0.755900    -0.467095   \n",
       "2                     0.364952        0.022279  0.491711     0.268092   \n",
       "3                     1.690301        0.647090  2.311290     0.135750   \n",
       "4                     0.439071        0.308158  0.770290     0.350303   \n",
       "\n",
       "   Meses.en.Funcion      PCA1      PCA2  Clusters  \n",
       "0         -0.935135  0.877092  2.051583         2  \n",
       "1         -0.733942  0.733480  3.279686         2  \n",
       "2         -0.610559  1.742094  1.712761         2  \n",
       "3          0.287026  3.861641  0.681884         0  \n",
       "4          0.128073  2.059640  1.282992         2  "
      ]
     },
     "execution_count": 41,
     "metadata": {},
     "output_type": "execute_result"
    }
   ],
   "source": [
    "X_sc2['Clusters'] = kmeans.labels_\n",
    "\n",
    "X_sc2.head()"
   ]
  },
  {
   "cell_type": "code",
   "execution_count": 42,
   "metadata": {
    "scrolled": true
   },
   "outputs": [
    {
     "data": {
      "text/plain": [
       "1    58\n",
       "0    33\n",
       "2    28\n",
       "Name: Clusters, dtype: int64"
      ]
     },
     "execution_count": 42,
     "metadata": {},
     "output_type": "execute_result"
    }
   ],
   "source": [
    "X_sc2['Clusters'].value_counts()"
   ]
  },
  {
   "cell_type": "code",
   "execution_count": 43,
   "metadata": {},
   "outputs": [],
   "source": [
    "X_sc3 = X_sc2.copy()"
   ]
  },
  {
   "cell_type": "code",
   "execution_count": 44,
   "metadata": {},
   "outputs": [
    {
     "data": {
      "text/html": [
       "<div>\n",
       "<style scoped>\n",
       "    .dataframe tbody tr th:only-of-type {\n",
       "        vertical-align: middle;\n",
       "    }\n",
       "\n",
       "    .dataframe tbody tr th {\n",
       "        vertical-align: top;\n",
       "    }\n",
       "\n",
       "    .dataframe thead th {\n",
       "        text-align: right;\n",
       "    }\n",
       "</style>\n",
       "<table border=\"1\" class=\"dataframe\">\n",
       "  <thead>\n",
       "    <tr style=\"text-align: right;\">\n",
       "      <th></th>\n",
       "      <th>Mora.Media</th>\n",
       "      <th>CAR.Media</th>\n",
       "      <th>Cartera.Pesada.Promedio</th>\n",
       "      <th>Ingreso.Promedio</th>\n",
       "      <th>Intereses.de.Credito.Jun.17</th>\n",
       "      <th>Utilidad.Mes.M</th>\n",
       "      <th>Clientes</th>\n",
       "      <th>Desembolsos</th>\n",
       "      <th>Meses.en.Funcion</th>\n",
       "      <th>Clusters</th>\n",
       "    </tr>\n",
       "  </thead>\n",
       "  <tbody>\n",
       "    <tr>\n",
       "      <th>0</th>\n",
       "      <td>1.437825</td>\n",
       "      <td>1.270919</td>\n",
       "      <td>0.996998</td>\n",
       "      <td>0.182798</td>\n",
       "      <td>0.027921</td>\n",
       "      <td>-0.234485</td>\n",
       "      <td>-0.366595</td>\n",
       "      <td>-0.063125</td>\n",
       "      <td>-0.935135</td>\n",
       "      <td>2</td>\n",
       "    </tr>\n",
       "    <tr>\n",
       "      <th>1</th>\n",
       "      <td>2.190664</td>\n",
       "      <td>1.500867</td>\n",
       "      <td>1.776375</td>\n",
       "      <td>-0.221181</td>\n",
       "      <td>-0.312048</td>\n",
       "      <td>-0.492853</td>\n",
       "      <td>-0.755900</td>\n",
       "      <td>-0.467095</td>\n",
       "      <td>-0.733942</td>\n",
       "      <td>2</td>\n",
       "    </tr>\n",
       "    <tr>\n",
       "      <th>2</th>\n",
       "      <td>1.861494</td>\n",
       "      <td>1.396545</td>\n",
       "      <td>0.824062</td>\n",
       "      <td>0.330414</td>\n",
       "      <td>0.364952</td>\n",
       "      <td>0.022279</td>\n",
       "      <td>0.491711</td>\n",
       "      <td>0.268092</td>\n",
       "      <td>-0.610559</td>\n",
       "      <td>2</td>\n",
       "    </tr>\n",
       "    <tr>\n",
       "      <th>3</th>\n",
       "      <td>1.447515</td>\n",
       "      <td>1.095123</td>\n",
       "      <td>1.976801</td>\n",
       "      <td>1.659968</td>\n",
       "      <td>1.690301</td>\n",
       "      <td>0.647090</td>\n",
       "      <td>2.311290</td>\n",
       "      <td>0.135750</td>\n",
       "      <td>0.287026</td>\n",
       "      <td>0</td>\n",
       "    </tr>\n",
       "    <tr>\n",
       "      <th>4</th>\n",
       "      <td>1.386781</td>\n",
       "      <td>1.136301</td>\n",
       "      <td>1.303947</td>\n",
       "      <td>0.509158</td>\n",
       "      <td>0.439071</td>\n",
       "      <td>0.308158</td>\n",
       "      <td>0.770290</td>\n",
       "      <td>0.350303</td>\n",
       "      <td>0.128073</td>\n",
       "      <td>2</td>\n",
       "    </tr>\n",
       "  </tbody>\n",
       "</table>\n",
       "</div>"
      ],
      "text/plain": [
       "   Mora.Media  CAR.Media  Cartera.Pesada.Promedio  Ingreso.Promedio  \\\n",
       "0    1.437825   1.270919                 0.996998          0.182798   \n",
       "1    2.190664   1.500867                 1.776375         -0.221181   \n",
       "2    1.861494   1.396545                 0.824062          0.330414   \n",
       "3    1.447515   1.095123                 1.976801          1.659968   \n",
       "4    1.386781   1.136301                 1.303947          0.509158   \n",
       "\n",
       "   Intereses.de.Credito.Jun.17  Utilidad.Mes.M  Clientes  Desembolsos  \\\n",
       "0                     0.027921       -0.234485 -0.366595    -0.063125   \n",
       "1                    -0.312048       -0.492853 -0.755900    -0.467095   \n",
       "2                     0.364952        0.022279  0.491711     0.268092   \n",
       "3                     1.690301        0.647090  2.311290     0.135750   \n",
       "4                     0.439071        0.308158  0.770290     0.350303   \n",
       "\n",
       "   Meses.en.Funcion  Clusters  \n",
       "0         -0.935135         2  \n",
       "1         -0.733942         2  \n",
       "2         -0.610559         2  \n",
       "3          0.287026         0  \n",
       "4          0.128073         2  "
      ]
     },
     "execution_count": 44,
     "metadata": {},
     "output_type": "execute_result"
    }
   ],
   "source": [
    "X_sc3 = X_sc3.drop(['PCA1','PCA2'], axis=1)\n",
    "X_sc3.head()"
   ]
  },
  {
   "cell_type": "markdown",
   "metadata": {},
   "source": [
    "## Caracterización de Clusters (variables originales estandarizadas)"
   ]
  },
  {
   "cell_type": "code",
   "execution_count": 45,
   "metadata": {},
   "outputs": [
    {
     "data": {
      "text/html": [
       "<div>\n",
       "<style scoped>\n",
       "    .dataframe tbody tr th:only-of-type {\n",
       "        vertical-align: middle;\n",
       "    }\n",
       "\n",
       "    .dataframe tbody tr th {\n",
       "        vertical-align: top;\n",
       "    }\n",
       "\n",
       "    .dataframe thead th {\n",
       "        text-align: right;\n",
       "    }\n",
       "</style>\n",
       "<table border=\"1\" class=\"dataframe\">\n",
       "  <thead>\n",
       "    <tr style=\"text-align: right;\">\n",
       "      <th></th>\n",
       "      <th>Clusters</th>\n",
       "      <th>Mora.Media</th>\n",
       "      <th>CAR.Media</th>\n",
       "      <th>Cartera.Pesada.Promedio</th>\n",
       "      <th>Ingreso.Promedio</th>\n",
       "      <th>Intereses.de.Credito.Jun.17</th>\n",
       "      <th>Utilidad.Mes.M</th>\n",
       "      <th>Clientes</th>\n",
       "      <th>Desembolsos</th>\n",
       "      <th>Meses.en.Funcion</th>\n",
       "    </tr>\n",
       "  </thead>\n",
       "  <tbody>\n",
       "    <tr>\n",
       "      <th>0</th>\n",
       "      <td>0</td>\n",
       "      <td>0.179680</td>\n",
       "      <td>0.106602</td>\n",
       "      <td>0.173705</td>\n",
       "      <td>1.211110</td>\n",
       "      <td>1.224889</td>\n",
       "      <td>1.037849</td>\n",
       "      <td>1.184408</td>\n",
       "      <td>1.172118</td>\n",
       "      <td>0.349358</td>\n",
       "    </tr>\n",
       "    <tr>\n",
       "      <th>1</th>\n",
       "      <td>1</td>\n",
       "      <td>-0.722115</td>\n",
       "      <td>-0.687510</td>\n",
       "      <td>-0.679589</td>\n",
       "      <td>-0.805575</td>\n",
       "      <td>-0.784524</td>\n",
       "      <td>-0.697507</td>\n",
       "      <td>-0.728528</td>\n",
       "      <td>-0.684697</td>\n",
       "      <td>-0.208960</td>\n",
       "    </tr>\n",
       "    <tr>\n",
       "      <th>2</th>\n",
       "      <td>2</td>\n",
       "      <td>1.284044</td>\n",
       "      <td>1.298489</td>\n",
       "      <td>1.202997</td>\n",
       "      <td>0.241313</td>\n",
       "      <td>0.181466</td>\n",
       "      <td>0.221657</td>\n",
       "      <td>0.113186</td>\n",
       "      <td>0.036877</td>\n",
       "      <td>0.021103</td>\n",
       "    </tr>\n",
       "  </tbody>\n",
       "</table>\n",
       "</div>"
      ],
      "text/plain": [
       "   Clusters  Mora.Media  CAR.Media  Cartera.Pesada.Promedio  Ingreso.Promedio  \\\n",
       "0         0    0.179680   0.106602                 0.173705          1.211110   \n",
       "1         1   -0.722115  -0.687510                -0.679589         -0.805575   \n",
       "2         2    1.284044   1.298489                 1.202997          0.241313   \n",
       "\n",
       "   Intereses.de.Credito.Jun.17  Utilidad.Mes.M  Clientes  Desembolsos  \\\n",
       "0                     1.224889        1.037849  1.184408     1.172118   \n",
       "1                    -0.784524       -0.697507 -0.728528    -0.684697   \n",
       "2                     0.181466        0.221657  0.113186     0.036877   \n",
       "\n",
       "   Meses.en.Funcion  \n",
       "0          0.349358  \n",
       "1         -0.208960  \n",
       "2          0.021103  "
      ]
     },
     "execution_count": 45,
     "metadata": {},
     "output_type": "execute_result"
    }
   ],
   "source": [
    "PromVarCust = X_sc3.groupby(by = 'Clusters', as_index=False).mean()\n",
    "PromVarCust"
   ]
  },
  {
   "cell_type": "code",
   "execution_count": 46,
   "metadata": {},
   "outputs": [
    {
     "data": {
      "text/html": [
       "<div>\n",
       "<style scoped>\n",
       "    .dataframe tbody tr th:only-of-type {\n",
       "        vertical-align: middle;\n",
       "    }\n",
       "\n",
       "    .dataframe tbody tr th {\n",
       "        vertical-align: top;\n",
       "    }\n",
       "\n",
       "    .dataframe thead th {\n",
       "        text-align: right;\n",
       "    }\n",
       "</style>\n",
       "<table border=\"1\" class=\"dataframe\">\n",
       "  <thead>\n",
       "    <tr style=\"text-align: right;\">\n",
       "      <th></th>\n",
       "      <th>Mora.Media</th>\n",
       "      <th>CAR.Media</th>\n",
       "      <th>Cartera.Pesada.Promedio</th>\n",
       "      <th>Ingreso.Promedio</th>\n",
       "      <th>Intereses.de.Credito.Jun.17</th>\n",
       "      <th>Utilidad.Mes.M</th>\n",
       "      <th>Clientes</th>\n",
       "      <th>Desembolsos</th>\n",
       "      <th>Meses.en.Funcion</th>\n",
       "    </tr>\n",
       "  </thead>\n",
       "  <tbody>\n",
       "    <tr>\n",
       "      <th>0</th>\n",
       "      <td>0.179680</td>\n",
       "      <td>0.106602</td>\n",
       "      <td>0.173705</td>\n",
       "      <td>1.211110</td>\n",
       "      <td>1.224889</td>\n",
       "      <td>1.037849</td>\n",
       "      <td>1.184408</td>\n",
       "      <td>1.172118</td>\n",
       "      <td>0.349358</td>\n",
       "    </tr>\n",
       "    <tr>\n",
       "      <th>1</th>\n",
       "      <td>-0.722115</td>\n",
       "      <td>-0.687510</td>\n",
       "      <td>-0.679589</td>\n",
       "      <td>-0.805575</td>\n",
       "      <td>-0.784524</td>\n",
       "      <td>-0.697507</td>\n",
       "      <td>-0.728528</td>\n",
       "      <td>-0.684697</td>\n",
       "      <td>-0.208960</td>\n",
       "    </tr>\n",
       "    <tr>\n",
       "      <th>2</th>\n",
       "      <td>1.284044</td>\n",
       "      <td>1.298489</td>\n",
       "      <td>1.202997</td>\n",
       "      <td>0.241313</td>\n",
       "      <td>0.181466</td>\n",
       "      <td>0.221657</td>\n",
       "      <td>0.113186</td>\n",
       "      <td>0.036877</td>\n",
       "      <td>0.021103</td>\n",
       "    </tr>\n",
       "  </tbody>\n",
       "</table>\n",
       "</div>"
      ],
      "text/plain": [
       "   Mora.Media  CAR.Media  Cartera.Pesada.Promedio  Ingreso.Promedio  \\\n",
       "0    0.179680   0.106602                 0.173705          1.211110   \n",
       "1   -0.722115  -0.687510                -0.679589         -0.805575   \n",
       "2    1.284044   1.298489                 1.202997          0.241313   \n",
       "\n",
       "   Intereses.de.Credito.Jun.17  Utilidad.Mes.M  Clientes  Desembolsos  \\\n",
       "0                     1.224889        1.037849  1.184408     1.172118   \n",
       "1                    -0.784524       -0.697507 -0.728528    -0.684697   \n",
       "2                     0.181466        0.221657  0.113186     0.036877   \n",
       "\n",
       "   Meses.en.Funcion  \n",
       "0          0.349358  \n",
       "1         -0.208960  \n",
       "2          0.021103  "
      ]
     },
     "execution_count": 46,
     "metadata": {},
     "output_type": "execute_result"
    }
   ],
   "source": [
    "PromVarCust = PromVarCust.drop('Clusters', axis=1)\n",
    "PromVarCust.head()"
   ]
  },
  {
   "cell_type": "code",
   "execution_count": 49,
   "metadata": {},
   "outputs": [
    {
     "data": {
      "text/plain": [
       "(array([0, 1, 2]), [Text(0, 0, '0'), Text(1, 0, '1'), Text(2, 0, '2')])"
      ]
     },
     "execution_count": 49,
     "metadata": {},
     "output_type": "execute_result"
    },
    {
     "data": {
      "image/png": "[encoded data removed]",
      "text/plain": [
       "<Figure size 720x576 with 1 Axes>"
      ]
     },
     "metadata": {
      "needs_background": "light"
     },
     "output_type": "display_data"
    }
   ],
   "source": [
    "# plt.rcParams['figure.figsize'] = (6.4, 4.8)\n",
    "\n",
    "plt.rcParams['figure.figsize'] = (10, 8)\n",
    "\n",
    "PromVarCust.plot(kind=\"bar\")\n",
    "plt.xticks(rotation=360)"
   ]
  },
  {
   "cell_type": "code",
   "execution_count": null,
   "metadata": {},
   "outputs": [],
   "source": [
    "plt.rcParams['figure.figsize'] = (15, 15)\n",
    "\n",
    "boxplots = X_sc3.boxplot(by='Clusters')"
   ]
  }
 ],
 "metadata": {
  "kernelspec": {
   "display_name": "Python 3",
   "language": "python",
   "name": "python3"
  },
  "language_info": {
   "codemirror_mode": {
    "name": "ipython",
    "version": 3
   },
   "file_extension": ".py",
   "mimetype": "text/x-python",
   "name": "python",
   "nbconvert_exporter": "python",
   "pygments_lexer": "ipython3",
   "version": "3.8.8"
  }
 },
 "nbformat": 4,
 "nbformat_minor": 2
}
